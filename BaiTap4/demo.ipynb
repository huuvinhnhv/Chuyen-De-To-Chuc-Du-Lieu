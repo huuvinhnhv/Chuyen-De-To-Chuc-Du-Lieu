{
 "cells": [
  {
   "cell_type": "code",
   "execution_count": 13,
   "metadata": {},
   "outputs": [
    {
     "name": "stdout",
     "output_type": "stream",
     "text": [
      "<music21.stream.Part Classical Guitar>\n"
     ]
    },
    {
     "data": {
      "text/plain": [
       "WindowsPath('d:/HUS/HK3/CD TKPM NC/BaiTap4/DemoDynamic.musicxml')"
      ]
     },
     "execution_count": 13,
     "metadata": {},
     "output_type": "execute_result"
    }
   ],
   "source": [
    "from music21 import *\n",
    "\n",
    "# Đọc file MusicXML\n",
    "score = converter.parse('DemoDynamic.musicxml')\n",
    "\n",
    "# Lấy phần tử nhạc cụ cần sửa thông tin (ví dụ: phần tử nhạc cụ đầu tiên)\n",
    "part_to_edit = score.parts[0]\n",
    "print(part_to_edit)\n",
    "# Sửa thông tin của phần tử nhạc cụ\n",
    "part_to_edit.insert(0, instrument.Violin()) # ví dụ: thay đổi nhạc cụ của phần tử nhạc cụ thành violin\n",
    "\n",
    "# Lưu file MusicXML đã được sửa thông tin\n",
    "score.write('xml', 'DemoDynamic.musicxml')\n"
   ]
  }
 ],
 "metadata": {
  "kernelspec": {
   "display_name": "Python 3",
   "language": "python",
   "name": "python3"
  },
  "language_info": {
   "codemirror_mode": {
    "name": "ipython",
    "version": 3
   },
   "file_extension": ".py",
   "mimetype": "text/x-python",
   "name": "python",
   "nbconvert_exporter": "python",
   "pygments_lexer": "ipython3",
   "version": "3.11.3"
  },
  "orig_nbformat": 4,
  "vscode": {
   "interpreter": {
    "hash": "f61da1bd6a7f759c873888bed4797b16fa16cfdc2fd66d9542c822a9d65fd2c9"
   }
  }
 },
 "nbformat": 4,
 "nbformat_minor": 2
}
